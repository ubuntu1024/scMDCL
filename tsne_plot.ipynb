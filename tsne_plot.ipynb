{
 "cells": [
  {
   "cell_type": "code",
   "metadata": {
    "ExecuteTime": {
     "end_time": "2024-11-05T11:35:44.069801Z",
     "start_time": "2024-11-05T11:35:42.339944Z"
    }
   },
   "source": [
    "import numpy as np\n",
    "import matplotlib.pyplot as plt\n",
    "from sklearn.manifold import TSNE\n",
    "from matplotlib.pyplot import MultipleLocator"
   ],
   "outputs": [],
   "execution_count": 1
  },
  {
   "cell_type": "code",
   "metadata": {
    "ExecuteTime": {
     "end_time": "2024-11-05T11:35:44.094316Z",
     "start_time": "2024-11-05T11:35:44.091448Z"
    }
   },
   "source": [
    "colors = ['#008080', '#ffc0cb', '#bada55', '#420420', '#7fe5f0', '#FB1919', '#ffd700', '#9A32CD', '#0000CD', '#CC99CC', '#CC9900', \n",
    "                \"#FF34B3\",\"#BC8F8F\",\"#20B2AA\",\"#6495ED\",\"#AB82FF\",\"#CD5C5C\",\"#8B008B\",\"#FFC1C1\",\"#00F5FF\",\"#FFA500\",\"#FF6A6A\",\"#FF3030\"]"
   ],
   "outputs": [],
   "execution_count": 2
  },
  {
   "cell_type": "markdown",
   "metadata": {},
   "source": [
    "- step1: Run main.py to train the model and save the predicted labels and latent representations\n",
    "- step2: Import the result and draw it."
   ]
  },
  {
   "cell_type": "code",
   "metadata": {
    "ExecuteTime": {
     "end_time": "2024-09-08T07:06:12.136993Z",
     "start_time": "2024-09-08T07:05:42.081776Z"
    }
   },
   "source": [
    "dataset = 'PBMC-10k'\n",
    "seed = 0\n",
    "y_pred = np.load('./output/{}/seed{}_label.npy'.format(dataset, seed))\n",
    "z = np.load('./output/{}/seed{}_z.npy'.format(dataset, seed))\n",
    "label = np.load('./input/{}/label.npy'.format(dataset))\n",
    "celltype = np.load('./input/{}/cell_type.npy'.format(dataset))\n",
    "n_clusters = int(max(label) - min(label) + 1)\n",
    "\n",
    "z = TSNE(n_components=2, random_state=10, learning_rate='auto').fit_transform(z)"
   ],
   "outputs": [],
   "execution_count": 5
  },
  {
   "metadata": {
    "ExecuteTime": {
     "end_time": "2024-11-07T09:11:57.270579Z",
     "start_time": "2024-11-07T09:11:57.243575Z"
    }
   },
   "cell_type": "code",
   "source": [
    "plt.figure(figsize=(14.5, 5.5))\n",
    "plt.rcParams[\"legend.markerscale\"] = 8\n",
    "plt.rc('font',family='Times New Roman')\n",
    "plt.rcParams['font.size'] = 17\n",
    "\n",
    "ax1 = plt.subplot(121)\n",
    "for j in range(n_clusters):\n",
    "    ax1.scatter(z[y_pred == j, 0], z[y_pred == j, 1], s=1, color=colors[j], label=str(j))\n",
    "plt.axis('on')\n",
    "plt.title('scMDCL clusters', weight='bold')\n",
    "plt.xlim(-95, 95)\n",
    "plt.ylim(-95, 95)\n",
    "x_major_locator=MultipleLocator(50)\n",
    "ax1.xaxis.set_major_locator(x_major_locator)\n",
    "y_major_locator=MultipleLocator(50)\n",
    "ax1.yaxis.set_major_locator(y_major_locator)\n",
    "plt.xlabel('tSNE1')\n",
    "plt.ylabel('tSNE2')\n",
    "plt.legend(loc='right', bbox_to_anchor=(1.18, 0.5), frameon=False, prop = {'size':11, 'family': 'Times New Roman'})\n",
    "\n",
    "\n",
    "ax2 = plt.subplot(122)\n",
    "for j in range(n_clusters):\n",
    "    ax2.scatter(z[label == j, 0], z[label == j, 1], s=1, color=colors[j], label=celltype[j])\n",
    "plt.axis('on')\n",
    "plt.title('True labels', weight='bold')\n",
    "plt.xlabel('tSNE1')\n",
    "plt.ylabel('tSNE2')\n",
    "plt.xlim(-95, 95)\n",
    "plt.ylim(-95, 95)\n",
    "x_major_locator=MultipleLocator(50)\n",
    "ax2.xaxis.set_major_locator(x_major_locator)\n",
    "y_major_locator=MultipleLocator(50)\n",
    "ax2.yaxis.set_major_locator(y_major_locator)\n",
    "plt.legend(loc='right', bbox_to_anchor=(1.38, 0.5), frameon=False, prop = {'size':11, 'family': 'Times New Roman'})\n",
    "\n",
    "plt.subplots_adjust(wspace=0.4)\n",
    " \n",
    "plt.text(-0.21,0.36, 'PBMC-10k',rotation=90, rotation_mode='anchor', fontdict={'weight': 'bold', 'family': 'Times New Roman'},transform=ax1.transAxes)\n",
    "#plt.text(-0.25,1, 'a', fontdict={'weight':'bold'},transform=ax1.transAxes, size = 28)\n",
    "\n",
    "\n",
    "plt.savefig('./output/{}_tsne.eps'.format(dataset), format='eps', bbox_inches='tight')\n",
    "\n",
    "plt.show()"
   ],
   "outputs": [
    {
     "ename": "NameError",
     "evalue": "name 'plt' is not defined",
     "output_type": "error",
     "traceback": [
      "\u001B[1;31m---------------------------------------------------------------------------\u001B[0m",
      "\u001B[1;31mNameError\u001B[0m                                 Traceback (most recent call last)",
      "\u001B[1;32m~\\AppData\\Local\\Temp\\ipykernel_125208\\3229122041.py\u001B[0m in \u001B[0;36m<module>\u001B[1;34m\u001B[0m\n\u001B[1;32m----> 1\u001B[1;33m \u001B[0mplt\u001B[0m\u001B[1;33m.\u001B[0m\u001B[0mfigure\u001B[0m\u001B[1;33m(\u001B[0m\u001B[0mfigsize\u001B[0m\u001B[1;33m=\u001B[0m\u001B[1;33m(\u001B[0m\u001B[1;36m14.5\u001B[0m\u001B[1;33m,\u001B[0m \u001B[1;36m5.5\u001B[0m\u001B[1;33m)\u001B[0m\u001B[1;33m)\u001B[0m\u001B[1;33m\u001B[0m\u001B[1;33m\u001B[0m\u001B[0m\n\u001B[0m\u001B[0;32m      2\u001B[0m \u001B[0mplt\u001B[0m\u001B[1;33m.\u001B[0m\u001B[0mrcParams\u001B[0m\u001B[1;33m[\u001B[0m\u001B[1;34m\"legend.markerscale\"\u001B[0m\u001B[1;33m]\u001B[0m \u001B[1;33m=\u001B[0m \u001B[1;36m8\u001B[0m\u001B[1;33m\u001B[0m\u001B[1;33m\u001B[0m\u001B[0m\n\u001B[0;32m      3\u001B[0m \u001B[0mplt\u001B[0m\u001B[1;33m.\u001B[0m\u001B[0mrc\u001B[0m\u001B[1;33m(\u001B[0m\u001B[1;34m'font'\u001B[0m\u001B[1;33m,\u001B[0m\u001B[0mfamily\u001B[0m\u001B[1;33m=\u001B[0m\u001B[1;34m'Times New Roman'\u001B[0m\u001B[1;33m)\u001B[0m\u001B[1;33m\u001B[0m\u001B[1;33m\u001B[0m\u001B[0m\n\u001B[0;32m      4\u001B[0m \u001B[0mplt\u001B[0m\u001B[1;33m.\u001B[0m\u001B[0mrcParams\u001B[0m\u001B[1;33m[\u001B[0m\u001B[1;34m'font.size'\u001B[0m\u001B[1;33m]\u001B[0m \u001B[1;33m=\u001B[0m \u001B[1;36m17\u001B[0m\u001B[1;33m\u001B[0m\u001B[1;33m\u001B[0m\u001B[0m\n\u001B[0;32m      5\u001B[0m \u001B[1;33m\u001B[0m\u001B[0m\n",
      "\u001B[1;31mNameError\u001B[0m: name 'plt' is not defined"
     ]
    }
   ],
   "execution_count": 2
  },
  {
   "metadata": {},
   "cell_type": "markdown",
   "source": ""
  },
  {
   "metadata": {},
   "cell_type": "code",
   "outputs": [],
   "execution_count": null,
   "source": ""
  }
 ],
 "metadata": {
  "kernelspec": {
   "display_name": "pytorch",
   "language": "python",
   "name": "python3"
  },
  "language_info": {
   "codemirror_mode": {
    "name": "ipython",
    "version": 3
   },
   "file_extension": ".py",
   "mimetype": "text/x-python",
   "name": "python",
   "nbconvert_exporter": "python",
   "pygments_lexer": "ipython3",
   "version": "3.8.16"
  },
  "orig_nbformat": 4,
  "vscode": {
   "interpreter": {
    "hash": "71342f419acc3ba6ae382518c4ba2a9e6f9bd8751a76a463bc8e77674675b221"
   }
  }
 },
 "nbformat": 4,
 "nbformat_minor": 2
}
